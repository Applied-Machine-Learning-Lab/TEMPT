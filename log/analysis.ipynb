{
 "cells": [
  {
   "cell_type": "code",
   "execution_count": 1,
   "metadata": {},
   "outputs": [],
   "source": [
    "import numpy as np\n",
    "import pandas as pd\n",
    "from tqdm import tqdm\n",
    "import matplotlib.pyplot as plt\n",
    "import json\n",
    "import os\n",
    "import warnings\n",
    "warnings.filterwarnings('ignore')\n",
    "from scipy import stats"
   ]
  },
  {
   "cell_type": "code",
   "execution_count": 2,
   "metadata": {},
   "outputs": [],
   "source": [
    "# 按照医院的大小来对结果进行分析\n",
    "hospital = pd.read_csv('../data/eicu/handled/hospital.csv')"
   ]
  },
  {
   "cell_type": "code",
   "execution_count": 3,
   "metadata": {},
   "outputs": [],
   "source": [
    "def analyze_data(file_path):\n",
    "    #filter_id = [152, 92, 220, 188, 181, 195, 171, 110, 176, 122, 420, 243, 140]\n",
    "    filter_id = [188, 220, 152, 269, 183, 345, 208, 419, 167, 198, 416, 312, 275, 224, 413]\n",
    "\n",
    "    with open(file_path, 'r') as f:\n",
    "        data = json.load(f)\n",
    "\n",
    "    exp_id, model, hos_id, jaccard, f1, prauc = [], [], [], [], [], []\n",
    "    for key in data.keys():\n",
    "        #if data[key]['hos_id'] in filter_id:\n",
    "        #if data[key]['hos_id'] != 336:\n",
    "        exp_id.append(key)\n",
    "        model.append(data[key]['model'])\n",
    "        hos_id.append(data[key]['hos_id'])\n",
    "        jaccard.append(data[key]['jaccard'])\n",
    "        f1.append(data[key]['f1'])\n",
    "        prauc.append(data[key]['prauc'])\n",
    "    \n",
    "    df = pd.DataFrame({'exp_id': exp_id,\n",
    "                       'model': model,\n",
    "                       'hospital_id': hos_id,\n",
    "                       'jaccard': jaccard,\n",
    "                       'f1': f1,\n",
    "                       'prauc': prauc})\n",
    "    \n",
    "    df = pd.merge(df, hospital, on='hospital_id', how='left')\n",
    "    df['exp_id'] = df.groupby('hospital_id')['exp_id'].transform('rank')\n",
    "    \n",
    "    df_exp = pd.DataFrame(columns=['Jaccard_S', 'F1_S', 'PRAUC_S', \n",
    "                                    'Jaccard_M', 'F1_M', 'PRAUC_M',\n",
    "                                    'Jaccard_L', 'F1_L', 'PRAUC_L',\n",
    "                                    'Jaccard_all', 'F1_all', 'PRAUC_all'])\n",
    "    for i in range(5):\n",
    "\n",
    "        df_per = df.loc[df['exp_id']==(i+1)]\n",
    "        res_dict = {}\n",
    "        res_dict['S'] = df_per[df_per['record_num']<=1000].groupby('hospital_id').agg('mean')[['jaccard', 'f1', 'prauc']].mean().values\n",
    "        res_dict['M'] = df_per[(df_per['record_num']>1000) & (df_per['record_num']<2000)].groupby('hospital_id').agg('mean')[['jaccard', 'f1', 'prauc']].mean().values\n",
    "        res_dict['L'] = df_per[(df_per['record_num']>=2000)].groupby('hospital_id').agg('mean')[['jaccard', 'f1', 'prauc']].mean().values\n",
    "        res_dict['all'] = df_per.groupby('hospital_id').agg('mean')[['jaccard', 'f1', 'prauc']].mean().values\n",
    "        instance = np.concatenate((res_dict['S'], res_dict['M'], res_dict['L'], res_dict['all']))\n",
    "        df_exp.loc[i] = instance\n",
    "    \n",
    "    res_mean, res_std = df_exp.mean(), df_exp.std()\n",
    "\n",
    "    print(file_path+': %d Hospital, %.3f Experiments' % (df.hospital_id.nunique(), df.groupby('hospital_id')['exp_id'].agg('count').mean()))\n",
    "\n",
    "    return (res_mean.values, res_std.values), df_exp"
   ]
  },
  {
   "cell_type": "code",
   "execution_count": 4,
   "metadata": {},
   "outputs": [],
   "source": [
    "def display_data(path_list):\n",
    "\n",
    "    display_df_mean = pd.DataFrame(columns=['Jaccard_S', 'F1_S', 'PRAUC_S', \n",
    "                                            'Jaccard_M', 'F1_M', 'PRAUC_M',\n",
    "                                            'Jaccard_L', 'F1_L', 'PRAUC_L',\n",
    "                                            'Jaccard_all', 'F1_all', 'PRAUC_all'])\n",
    "    display_df_std = pd.DataFrame(columns=['Jaccard_S', 'F1_S', 'PRAUC_S', \n",
    "                                           'Jaccard_M', 'F1_M', 'PRAUC_M',\n",
    "                                           'Jaccard_L', 'F1_L', 'PRAUC_L',\n",
    "                                           'Jaccard_all', 'F1_all', 'PRAUC_all'])\n",
    "    \n",
    "    for path in path_list:\n",
    "\n",
    "        instance, _ = analyze_data(path)\n",
    "        instance_mean, instance_std = instance[0], instance[1]\n",
    "        display_df_mean.loc[path.split('.')[-2].split('/')[-1]] = instance_mean\n",
    "        display_df_std.loc[path.split('.')[-2].split('/')[-1]] = instance_std\n",
    "    \n",
    "    return display_df_mean, display_df_std"
   ]
  },
  {
   "cell_type": "code",
   "execution_count": null,
   "metadata": {},
   "outputs": [],
   "source": [
    "display_df_mean, display_df_std = display_data([\n",
    "                           './log/results/prompt.json',\n",
    "                           ])"
   ]
  },
  {
   "cell_type": "code",
   "execution_count": null,
   "metadata": {},
   "outputs": [],
   "source": [
    "display_df_mean"
   ]
  },
  {
   "cell_type": "code",
   "execution_count": null,
   "metadata": {},
   "outputs": [],
   "source": [
    "display_df_std"
   ]
  }
 ],
 "metadata": {
  "kernelspec": {
   "display_name": "Python 3.8.10 64-bit",
   "language": "python",
   "name": "python3"
  },
  "language_info": {
   "codemirror_mode": {
    "name": "ipython",
    "version": 3
   },
   "file_extension": ".py",
   "mimetype": "text/x-python",
   "name": "python",
   "nbconvert_exporter": "python",
   "pygments_lexer": "ipython3",
   "version": "3.8.10"
  },
  "orig_nbformat": 4,
  "vscode": {
   "interpreter": {
    "hash": "865d8b2eb28e274047ba64063dfb6a2aabf0dfec4905d304d7a76618dae6fdd4"
   }
  }
 },
 "nbformat": 4,
 "nbformat_minor": 2
}
